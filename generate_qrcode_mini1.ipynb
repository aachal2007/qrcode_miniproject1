{
 "cells": [
  {
   "cell_type": "code",
   "execution_count": 1,
   "id": "ad0be1a9-d3a1-4c67-b7ba-2f4758ddf27b",
   "metadata": {},
   "outputs": [
    {
     "name": "stdin",
     "output_type": "stream",
     "text": [
      "Enter your UPI ID:  aachalkharat635@okicici\n"
     ]
    }
   ],
   "source": [
    "import qrcode\n",
    "\n",
    "\n",
    "upi_id = input(\"Enter your UPI ID: \")\n",
    "\n",
    "\n",
    "\n",
    "\n",
    "phonepe_url = f'upi://pay?pa={upi_id}&pn=Recipient%20Name&mc=1234'\n",
    "paytm_url = f'upi://pay?pa={upi_id}&pn=Recipient%20Name&mc=1234'\n",
    "google_pay_url = f'upi://pay?pa={upi_id}&pn=Recipient%20Name&mc=1234'\n",
    "\n",
    "\n",
    "\n",
    "phonepe_qr = qrcode.make(phonepe_url)\n",
    "paytm_qr = qrcode.make(paytm_url)\n",
    "google_pay_qr = qrcode.make(google_pay_url)\n",
    "\n",
    "\n",
    "\n",
    "phonepe_qr.save('phonepe_qr.png')\n",
    "paytm_qr.save(\"paytm_qr.png\")\n",
    "google_pay_qr.save('google_pay_qr.png')\n",
    "\n",
    "\n",
    "\n",
    "phonepe_qr.show()\n",
    "paytm_qr.show()\n",
    "google_pay_qr.show()"
   ]
  },
  {
   "cell_type": "code",
   "execution_count": null,
   "id": "49978cb8-c815-4aca-8834-163f082fe2d6",
   "metadata": {},
   "outputs": [],
   "source": []
  }
 ],
 "metadata": {
  "kernelspec": {
   "display_name": "Python 3 (ipykernel)",
   "language": "python",
   "name": "python3"
  },
  "language_info": {
   "codemirror_mode": {
    "name": "ipython",
    "version": 3
   },
   "file_extension": ".py",
   "mimetype": "text/x-python",
   "name": "python",
   "nbconvert_exporter": "python",
   "pygments_lexer": "ipython3",
   "version": "3.13.3"
  },
  "widgets": {
   "application/vnd.jupyter.widget-state+json": {
    "state": {},
    "version_major": 2,
    "version_minor": 0
   }
  }
 },
 "nbformat": 4,
 "nbformat_minor": 5
}
